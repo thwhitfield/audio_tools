{
 "cells": [
  {
   "cell_type": "code",
   "execution_count": 1,
   "id": "2506e1c2-f008-4819-b1a1-c18205657edd",
   "metadata": {
    "execution": {
     "iopub.execute_input": "2023-02-05T18:47:32.193009Z",
     "iopub.status.busy": "2023-02-05T18:47:32.193009Z",
     "iopub.status.idle": "2023-02-05T18:47:32.231007Z",
     "shell.execute_reply": "2023-02-05T18:47:32.231007Z",
     "shell.execute_reply.started": "2023-02-05T18:47:32.193009Z"
    },
    "tags": []
   },
   "outputs": [],
   "source": [
    "%load_ext autoreload\n",
    "%autoreload 2"
   ]
  },
  {
   "cell_type": "code",
   "execution_count": 2,
   "id": "41a82947-2bbb-4ed4-83f6-92152baec9a9",
   "metadata": {
    "execution": {
     "iopub.execute_input": "2023-02-05T18:47:32.233007Z",
     "iopub.status.busy": "2023-02-05T18:47:32.233007Z",
     "iopub.status.idle": "2023-02-05T18:47:32.372582Z",
     "shell.execute_reply": "2023-02-05T18:47:32.371580Z",
     "shell.execute_reply.started": "2023-02-05T18:47:32.233007Z"
    },
    "tags": []
   },
   "outputs": [],
   "source": [
    "import os\n",
    "from gtts import gTTS\n",
    "from io import BytesIO\n",
    "from pydub import AudioSegment"
   ]
  },
  {
   "cell_type": "code",
   "execution_count": 3,
   "id": "f6153630-62ce-40d8-9450-7854fc307cac",
   "metadata": {
    "execution": {
     "iopub.execute_input": "2023-02-05T18:47:32.373580Z",
     "iopub.status.busy": "2023-02-05T18:47:32.373580Z",
     "iopub.status.idle": "2023-02-05T18:47:32.420581Z",
     "shell.execute_reply": "2023-02-05T18:47:32.419580Z",
     "shell.execute_reply.started": "2023-02-05T18:47:32.373580Z"
    },
    "tags": []
   },
   "outputs": [],
   "source": [
    "from pathlib import Path"
   ]
  },
  {
   "cell_type": "code",
   "execution_count": 4,
   "id": "5fb7c623-0fa9-4e32-bcaf-4038e3d1072c",
   "metadata": {
    "execution": {
     "iopub.execute_input": "2023-02-05T18:47:32.421582Z",
     "iopub.status.busy": "2023-02-05T18:47:32.421582Z",
     "iopub.status.idle": "2023-02-05T18:47:32.466582Z",
     "shell.execute_reply": "2023-02-05T18:47:32.465580Z",
     "shell.execute_reply.started": "2023-02-05T18:47:32.421582Z"
    },
    "tags": []
   },
   "outputs": [],
   "source": [
    "from audio_tools.process import process_pod, process_podcast_folder"
   ]
  },
  {
   "cell_type": "code",
   "execution_count": 5,
   "id": "4ba98c18-d7f6-4985-a8b0-724961ff9c8c",
   "metadata": {
    "execution": {
     "iopub.execute_input": "2023-02-05T18:47:32.468580Z",
     "iopub.status.busy": "2023-02-05T18:47:32.468580Z",
     "iopub.status.idle": "2023-02-05T18:47:32.514089Z",
     "shell.execute_reply": "2023-02-05T18:47:32.513082Z",
     "shell.execute_reply.started": "2023-02-05T18:47:32.468580Z"
    },
    "tags": []
   },
   "outputs": [],
   "source": [
    "folder_path = r'C:\\Users\\thwhi\\OneDrive\\Desktop\\history of rome podcast mp3s'\n",
    "# output_path = r'C:\\Users\\thwhi\\OneDrive\\Desktop\\test_folder2'\n",
    "\n",
    "# process_podcast_folder(folder_path, output_folder_path = None, db_change = 20, prefix = 'louder_')"
   ]
  },
  {
   "cell_type": "code",
   "execution_count": 6,
   "id": "d781b282-b764-4dd6-a921-426c03dd4ff6",
   "metadata": {
    "execution": {
     "iopub.execute_input": "2023-02-05T18:47:32.515088Z",
     "iopub.status.busy": "2023-02-05T18:47:32.515088Z",
     "iopub.status.idle": "2023-02-05T18:47:32.626169Z",
     "shell.execute_reply": "2023-02-05T18:47:32.625166Z",
     "shell.execute_reply.started": "2023-02-05T18:47:32.515088Z"
    },
    "tags": []
   },
   "outputs": [],
   "source": [
    "import requests\n",
    "from bs4 import BeautifulSoup\n",
    "import re\n",
    "from pathlib import Path"
   ]
  },
  {
   "cell_type": "code",
   "execution_count": 7,
   "id": "7511d238-bfdd-40a9-8fe3-9d6862264e8f",
   "metadata": {
    "execution": {
     "iopub.execute_input": "2023-02-05T18:47:32.627169Z",
     "iopub.status.busy": "2023-02-05T18:47:32.627169Z",
     "iopub.status.idle": "2023-02-05T18:47:32.675169Z",
     "shell.execute_reply": "2023-02-05T18:47:32.673167Z",
     "shell.execute_reply.started": "2023-02-05T18:47:32.627169Z"
    },
    "tags": []
   },
   "outputs": [],
   "source": [
    "from audio_tools.download import get_list_of_mp3s_from_url, download_list_of_mp3_urls, get_history_of_rome_mp3_urls"
   ]
  },
  {
   "cell_type": "code",
   "execution_count": null,
   "id": "551b8281-7758-4e98-b0a0-f0afc17bcb3e",
   "metadata": {},
   "outputs": [],
   "source": []
  },
  {
   "cell_type": "code",
   "execution_count": 11,
   "id": "7473ce66-b2d1-4959-a077-9effdb236c8b",
   "metadata": {
    "execution": {
     "iopub.execute_input": "2023-02-04T16:11:02.239510Z",
     "iopub.status.busy": "2023-02-04T16:11:02.239510Z",
     "iopub.status.idle": "2023-02-04T16:16:32.873008Z",
     "shell.execute_reply": "2023-02-04T16:16:32.873008Z",
     "shell.execute_reply.started": "2023-02-04T16:11:02.239510Z"
    },
    "tags": []
   },
   "outputs": [],
   "source": [
    "# rome_archive_url = 'https://thehistoryofrome.typepad.com/the_history_of_rome/archives.html'\n",
    "# mp3_list = get_history_of_rome_mp3_urls(rome_archive_url)\n",
    "# download_list_of_mp3_urls(mp3_list, r'C:\\Users\\thwhi\\OneDrive\\Desktop\\history of rome podcast mp3s')"
   ]
  },
  {
   "cell_type": "code",
   "execution_count": 9,
   "id": "b8e0f912-d829-4311-9975-e4f8cacd78b5",
   "metadata": {
    "collapsed": true,
    "execution": {
     "iopub.execute_input": "2023-02-05T18:22:28.722935Z",
     "iopub.status.busy": "2023-02-05T18:22:28.721876Z",
     "iopub.status.idle": "2023-02-05T18:43:07.056279Z",
     "shell.execute_reply": "2023-02-05T18:43:07.056279Z",
     "shell.execute_reply.started": "2023-02-05T18:22:28.722935Z"
    },
    "jupyter": {
     "outputs_hidden": true
    },
    "tags": []
   },
   "outputs": [
    {
     "name": "stdout",
     "output_type": "stream",
     "text": [
      "Failed to process: 112-_Captured_Alive.mp3\n",
      "Failed to process: 113-_Three_Empires.mp3\n",
      "Failed to process: 114-_The_Nadir_of_Our_Fortunes.mp3\n",
      "Failed to process: 115-_Phase_Two_Complete.mp3\n",
      "Failed to process: 116-_Here_Come_the_Illyrians.mp3\n",
      "Failed to process: 117-_Aurelians_Walls.mp3\n",
      "Failed to process: 118-_The_Palmyrene_Wars.mp3\n",
      "Failed to process: 119-_Resitutor_Orbis.mp3\n",
      "Failed to process: 120-_Interregnum.mp3\n",
      "Failed to process: 121-_Phase_Three_Complete.mp3\n",
      "Failed to process: 122-_Jupiter_and_Hercules.mp3\n",
      "Failed to process: 123-_The_Tetrarchy.mp3\n",
      "Failed to process: 124-_The_Tetrarchs_at_War.mp3\n",
      "Failed to process: 125-_The_Best_Defence_is_a_Good_Defence.mp3\n",
      "Failed to process: 126-_All_The_Kings_Men.mp3\n",
      "Failed to process: 127-_Commanding_The_Economy.mp3\n",
      "Failed to process: 129-_Abdication.mp3\n",
      "Failed to process: 130-_Lost_in_Transition.mp3\n",
      "Failed to process: 131-_The_New_Game_in_Town.mp3\n",
      "Failed to process: 132-_In_This_Sign.mp3\n",
      "Failed to process: 133-_The_Milvian_Bridge.mp3\n",
      "Failed to process: 134-_And_Then_There_Were_Two.mp3\n",
      "Failed to process: 135-_Brothers_in_Name_Only.mp3\n",
      "Failed to process: 136-_Let_This_Be_Our_Final_Battle_2.mp3\n",
      "Failed to process: 137-_The_Christian_Emperor.mp3\n",
      "Failed to process: 138-_The_New_Rome.mp3\n",
      "Failed to process: 139-_Wash_Away_Your_Sins.mp3\n",
      "Failed to process: 140-_My_Three_Sons.mp3\n",
      "Failed to process: 141-_Blood_and_Water.mp3\n",
      "Failed to process: 142-_You_Earned_It.mp3\n",
      "Failed to process: 143-_Julian_the_Pre-Apostate.mp3\n",
      "Failed to process: 144-_The_Road_To_Constantinople.mp3\n",
      "Failed to process: 145-_Julian_the_Apostate.mp3\n",
      "Failed to process: 147-_Capitulation.mp3\n",
      "Failed to process: 148-_The_Cousins_Cousin.mp3\n",
      "Failed to process: 149-_The_Great_Conspiracy.mp3\n",
      "Failed to process: 150-_The_Perils_of_Mismanagement.mp3\n",
      "Failed to process: 151-_Bursting_a_Blood_Vessel_2.mp3\n",
      "Failed to process: 152-_The_Storm_Before_the_Storm_2.mp3\n",
      "Failed to process: 153-_Adrianople.mp3\n",
      "Failed to process: 154-_The_Gothic_War.mp3\n",
      "Failed to process: 155-_The_New_Bishop_of_Milan.mp3\n",
      "Failed to process: 156-_Jockeying_for_Position.mp3\n",
      "Failed to process: 157-_Only_the_Pentitent_Man_Shall_Pass.mp3\n",
      "Failed to process: 158-_Imperial_Suicide.mp3\n",
      "Failed to process: 159-_The_Divine_Winds.mp3\n",
      "Failed to process: 172-_Showdown.mp3\n",
      "Failed to process: 175-_Trying_to_Take_It_All_Back.mp3\n",
      "Failed to process: 178-_Not_With_a_Bang_But_a_Whimper.mp3\n",
      "Failed to process: 179-_The_End.mp3\n"
     ]
    }
   ],
   "source": [
    "# podcast_folder = r'C:\\Users\\thwhi\\OneDrive\\Desktop\\history of rome podcast mp3s'\n",
    "process_podcast_folder(folder_path = podcast_folder, output_folder_path = podcast_folder,\n",
    "                       db_change = 20, prefix = 'louder_')"
   ]
  },
  {
   "cell_type": "code",
   "execution_count": 9,
   "id": "d8bdc500-1016-40b7-a109-cd4a02547c9b",
   "metadata": {
    "execution": {
     "iopub.execute_input": "2023-02-05T18:50:36.248697Z",
     "iopub.status.busy": "2023-02-05T18:50:36.248697Z",
     "iopub.status.idle": "2023-02-05T18:51:12.928570Z",
     "shell.execute_reply": "2023-02-05T18:51:12.928570Z",
     "shell.execute_reply.started": "2023-02-05T18:50:36.248697Z"
    },
    "tags": []
   },
   "outputs": [],
   "source": [
    "podcast_folder = r'C:\\Users\\thwhi\\Documents\\history of rome mp3s'\n",
    "process_podcast_folder(folder_path = podcast_folder, output_folder_path = podcast_folder,\n",
    "                       db_change = 20, prefix = 'louder_')"
   ]
  },
  {
   "cell_type": "code",
   "execution_count": null,
   "id": "804d6574-860b-416a-98bf-ad87dbc0f343",
   "metadata": {},
   "outputs": [],
   "source": []
  },
  {
   "cell_type": "code",
   "execution_count": null,
   "id": "3339110c-b936-4452-ba87-6e2fe6daabdb",
   "metadata": {},
   "outputs": [],
   "source": []
  }
 ],
 "metadata": {
  "kernelspec": {
   "display_name": "Python [conda env:sound_env]",
   "language": "python",
   "name": "conda-env-sound_env-py"
  },
  "language_info": {
   "codemirror_mode": {
    "name": "ipython",
    "version": 3
   },
   "file_extension": ".py",
   "mimetype": "text/x-python",
   "name": "python",
   "nbconvert_exporter": "python",
   "pygments_lexer": "ipython3",
   "version": "3.8.16"
  }
 },
 "nbformat": 4,
 "nbformat_minor": 5
}
