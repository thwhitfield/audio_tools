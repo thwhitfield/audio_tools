{
 "cells": [
  {
   "cell_type": "code",
   "execution_count": 1,
   "id": "2506e1c2-f008-4819-b1a1-c18205657edd",
   "metadata": {
    "execution": {
     "iopub.execute_input": "2023-02-04T16:09:23.026876Z",
     "iopub.status.busy": "2023-02-04T16:09:23.025877Z",
     "iopub.status.idle": "2023-02-04T16:09:23.078960Z",
     "shell.execute_reply": "2023-02-04T16:09:23.077974Z",
     "shell.execute_reply.started": "2023-02-04T16:09:23.026876Z"
    },
    "tags": []
   },
   "outputs": [],
   "source": [
    "%load_ext autoreload\n",
    "%autoreload 2"
   ]
  },
  {
   "cell_type": "code",
   "execution_count": 2,
   "id": "41a82947-2bbb-4ed4-83f6-92152baec9a9",
   "metadata": {
    "execution": {
     "iopub.execute_input": "2023-02-04T16:09:23.080950Z",
     "iopub.status.busy": "2023-02-04T16:09:23.080950Z",
     "iopub.status.idle": "2023-02-04T16:09:23.206003Z",
     "shell.execute_reply": "2023-02-04T16:09:23.205004Z",
     "shell.execute_reply.started": "2023-02-04T16:09:23.080950Z"
    },
    "tags": []
   },
   "outputs": [],
   "source": [
    "import os\n",
    "from gtts import gTTS\n",
    "from io import BytesIO\n",
    "from pydub import AudioSegment"
   ]
  },
  {
   "cell_type": "code",
   "execution_count": 3,
   "id": "f6153630-62ce-40d8-9450-7854fc307cac",
   "metadata": {
    "execution": {
     "iopub.execute_input": "2023-02-04T16:09:23.207004Z",
     "iopub.status.busy": "2023-02-04T16:09:23.207004Z",
     "iopub.status.idle": "2023-02-04T16:09:23.253010Z",
     "shell.execute_reply": "2023-02-04T16:09:23.252004Z",
     "shell.execute_reply.started": "2023-02-04T16:09:23.207004Z"
    },
    "tags": []
   },
   "outputs": [],
   "source": [
    "from pathlib import Path"
   ]
  },
  {
   "cell_type": "code",
   "execution_count": 4,
   "id": "5fb7c623-0fa9-4e32-bcaf-4038e3d1072c",
   "metadata": {
    "execution": {
     "iopub.execute_input": "2023-02-04T16:09:23.254005Z",
     "iopub.status.busy": "2023-02-04T16:09:23.254005Z",
     "iopub.status.idle": "2023-02-04T16:09:23.316014Z",
     "shell.execute_reply": "2023-02-04T16:09:23.315015Z",
     "shell.execute_reply.started": "2023-02-04T16:09:23.254005Z"
    },
    "tags": []
   },
   "outputs": [],
   "source": [
    "from audio_tools.process import process_pod, process_podcast_folder"
   ]
  },
  {
   "cell_type": "code",
   "execution_count": 5,
   "id": "4ba98c18-d7f6-4985-a8b0-724961ff9c8c",
   "metadata": {
    "execution": {
     "iopub.execute_input": "2023-02-04T16:09:23.317014Z",
     "iopub.status.busy": "2023-02-04T16:09:23.317014Z",
     "iopub.status.idle": "2023-02-04T16:09:23.362016Z",
     "shell.execute_reply": "2023-02-04T16:09:23.362016Z",
     "shell.execute_reply.started": "2023-02-04T16:09:23.317014Z"
    },
    "tags": []
   },
   "outputs": [],
   "source": [
    "folder_path = r'C:\\Users\\thwhi\\OneDrive\\Desktop\\history of rome podcast mp3s'\n",
    "# output_path = r'C:\\Users\\thwhi\\OneDrive\\Desktop\\test_folder2'\n",
    "\n",
    "# process_podcast_folder(folder_path, output_folder_path = None, db_change = 20, prefix = 'louder_')"
   ]
  },
  {
   "cell_type": "code",
   "execution_count": 6,
   "id": "d781b282-b764-4dd6-a921-426c03dd4ff6",
   "metadata": {
    "execution": {
     "iopub.execute_input": "2023-02-04T16:09:24.547296Z",
     "iopub.status.busy": "2023-02-04T16:09:24.547296Z",
     "iopub.status.idle": "2023-02-04T16:09:24.672753Z",
     "shell.execute_reply": "2023-02-04T16:09:24.672753Z",
     "shell.execute_reply.started": "2023-02-04T16:09:24.547296Z"
    },
    "tags": []
   },
   "outputs": [],
   "source": [
    "import requests\n",
    "from bs4 import BeautifulSoup\n",
    "import re\n",
    "from pathlib import Path"
   ]
  },
  {
   "cell_type": "code",
   "execution_count": 9,
   "id": "7511d238-bfdd-40a9-8fe3-9d6862264e8f",
   "metadata": {
    "execution": {
     "iopub.execute_input": "2023-02-04T16:09:47.489769Z",
     "iopub.status.busy": "2023-02-04T16:09:47.489769Z",
     "iopub.status.idle": "2023-02-04T16:09:47.532430Z",
     "shell.execute_reply": "2023-02-04T16:09:47.531429Z",
     "shell.execute_reply.started": "2023-02-04T16:09:47.489769Z"
    },
    "tags": []
   },
   "outputs": [],
   "source": [
    "from audio_tools.download import get_list_of_mp3s_from_url, download_list_of_mp3_urls, get_history_of_rome_mp3_urls"
   ]
  },
  {
   "cell_type": "code",
   "execution_count": null,
   "id": "551b8281-7758-4e98-b0a0-f0afc17bcb3e",
   "metadata": {},
   "outputs": [],
   "source": []
  },
  {
   "cell_type": "code",
   "execution_count": 11,
   "id": "7473ce66-b2d1-4959-a077-9effdb236c8b",
   "metadata": {
    "execution": {
     "iopub.execute_input": "2023-02-04T16:11:02.239510Z",
     "iopub.status.busy": "2023-02-04T16:11:02.239510Z",
     "iopub.status.idle": "2023-02-04T16:16:32.873008Z",
     "shell.execute_reply": "2023-02-04T16:16:32.873008Z",
     "shell.execute_reply.started": "2023-02-04T16:11:02.239510Z"
    },
    "tags": []
   },
   "outputs": [],
   "source": [
    "rome_archive_url = 'https://thehistoryofrome.typepad.com/the_history_of_rome/archives.html'\n",
    "mp3_list = get_history_of_rome_mp3_urls(rome_archive_url)\n",
    "download_list_of_mp3_urls(mp3_list, r'C:\\Users\\thwhi\\OneDrive\\Desktop\\history of rome podcast mp3s')"
   ]
  },
  {
   "cell_type": "code",
   "execution_count": null,
   "id": "84125d64-25f8-4fab-8730-435a11264ea4",
   "metadata": {},
   "outputs": [],
   "source": []
  },
  {
   "cell_type": "code",
   "execution_count": null,
   "id": "3339110c-b936-4452-ba87-6e2fe6daabdb",
   "metadata": {},
   "outputs": [],
   "source": []
  }
 ],
 "metadata": {
  "kernelspec": {
   "display_name": "Python [conda env:sound_env]",
   "language": "python",
   "name": "conda-env-sound_env-py"
  },
  "language_info": {
   "codemirror_mode": {
    "name": "ipython",
    "version": 3
   },
   "file_extension": ".py",
   "mimetype": "text/x-python",
   "name": "python",
   "nbconvert_exporter": "python",
   "pygments_lexer": "ipython3",
   "version": "3.8.16"
  }
 },
 "nbformat": 4,
 "nbformat_minor": 5
}
