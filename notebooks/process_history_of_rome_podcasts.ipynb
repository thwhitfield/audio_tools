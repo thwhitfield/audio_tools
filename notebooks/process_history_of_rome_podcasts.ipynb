{
 "cells": [
  {
   "cell_type": "code",
   "execution_count": 1,
   "id": "2506e1c2-f008-4819-b1a1-c18205657edd",
   "metadata": {
    "execution": {
     "iopub.execute_input": "2023-01-30T22:56:06.270147Z",
     "iopub.status.busy": "2023-01-30T22:56:06.269155Z",
     "iopub.status.idle": "2023-01-30T22:56:06.320516Z",
     "shell.execute_reply": "2023-01-30T22:56:06.319502Z",
     "shell.execute_reply.started": "2023-01-30T22:56:06.270147Z"
    },
    "tags": []
   },
   "outputs": [],
   "source": [
    "%load_ext autoreload\n",
    "%autoreload 2"
   ]
  },
  {
   "cell_type": "code",
   "execution_count": 2,
   "id": "41a82947-2bbb-4ed4-83f6-92152baec9a9",
   "metadata": {
    "execution": {
     "iopub.execute_input": "2023-01-30T22:56:06.322509Z",
     "iopub.status.busy": "2023-01-30T22:56:06.321512Z",
     "iopub.status.idle": "2023-01-30T22:56:06.476559Z",
     "shell.execute_reply": "2023-01-30T22:56:06.475551Z",
     "shell.execute_reply.started": "2023-01-30T22:56:06.322509Z"
    },
    "tags": []
   },
   "outputs": [],
   "source": [
    "import os\n",
    "from gtts import gTTS\n",
    "from io import BytesIO\n",
    "from pydub import AudioSegment"
   ]
  },
  {
   "cell_type": "code",
   "execution_count": 3,
   "id": "f6153630-62ce-40d8-9450-7854fc307cac",
   "metadata": {
    "execution": {
     "iopub.execute_input": "2023-01-30T22:56:06.478551Z",
     "iopub.status.busy": "2023-01-30T22:56:06.477552Z",
     "iopub.status.idle": "2023-01-30T22:56:06.524551Z",
     "shell.execute_reply": "2023-01-30T22:56:06.523551Z",
     "shell.execute_reply.started": "2023-01-30T22:56:06.478551Z"
    },
    "tags": []
   },
   "outputs": [],
   "source": [
    "from pathlib import Path"
   ]
  },
  {
   "cell_type": "code",
   "execution_count": 4,
   "id": "5fb7c623-0fa9-4e32-bcaf-4038e3d1072c",
   "metadata": {
    "execution": {
     "iopub.execute_input": "2023-01-30T22:56:06.526557Z",
     "iopub.status.busy": "2023-01-30T22:56:06.525556Z",
     "iopub.status.idle": "2023-01-30T22:56:06.572570Z",
     "shell.execute_reply": "2023-01-30T22:56:06.571569Z",
     "shell.execute_reply.started": "2023-01-30T22:56:06.526557Z"
    },
    "tags": []
   },
   "outputs": [],
   "source": [
    "from audio_tools.process import process_pod, process_folder"
   ]
  },
  {
   "cell_type": "code",
   "execution_count": 6,
   "id": "4ba98c18-d7f6-4985-a8b0-724961ff9c8c",
   "metadata": {
    "collapsed": true,
    "execution": {
     "iopub.execute_input": "2023-01-30T22:56:19.672240Z",
     "iopub.status.busy": "2023-01-30T22:56:19.672240Z",
     "iopub.status.idle": "2023-01-30T22:56:58.061232Z",
     "shell.execute_reply": "2023-01-30T22:56:58.061232Z",
     "shell.execute_reply.started": "2023-01-30T22:56:19.672240Z"
    },
    "jupyter": {
     "outputs_hidden": true
    },
    "tags": []
   },
   "outputs": [
    {
     "ename": "PermissionError",
     "evalue": "[Errno 13] Permission denied: 'C:\\\\Users\\\\thwhi\\\\OneDrive\\\\Desktop\\\\history of rome podcast mp3s\\\\New folder'",
     "output_type": "error",
     "traceback": [
      "\u001b[1;31m---------------------------------------------------------------------------\u001b[0m",
      "\u001b[1;31mPermissionError\u001b[0m                           Traceback (most recent call last)",
      "Cell \u001b[1;32mIn[6], line 4\u001b[0m\n\u001b[0;32m      1\u001b[0m folder_path \u001b[38;5;241m=\u001b[39m \u001b[38;5;124mr\u001b[39m\u001b[38;5;124m'\u001b[39m\u001b[38;5;124mC:\u001b[39m\u001b[38;5;124m\\\u001b[39m\u001b[38;5;124mUsers\u001b[39m\u001b[38;5;124m\\\u001b[39m\u001b[38;5;124mthwhi\u001b[39m\u001b[38;5;124m\\\u001b[39m\u001b[38;5;124mOneDrive\u001b[39m\u001b[38;5;124m\\\u001b[39m\u001b[38;5;124mDesktop\u001b[39m\u001b[38;5;124m\\\u001b[39m\u001b[38;5;124mhistory of rome podcast mp3s\u001b[39m\u001b[38;5;124m'\u001b[39m\n\u001b[0;32m      2\u001b[0m \u001b[38;5;66;03m# output_path = r'C:\\Users\\thwhi\\OneDrive\\Desktop\\test_folder2'\u001b[39;00m\n\u001b[1;32m----> 4\u001b[0m \u001b[43mprocess_folder\u001b[49m\u001b[43m(\u001b[49m\u001b[43mfolder_path\u001b[49m\u001b[43m,\u001b[49m\u001b[43m \u001b[49m\u001b[43moutput_folder_path\u001b[49m\u001b[43m \u001b[49m\u001b[38;5;241;43m=\u001b[39;49m\u001b[43m \u001b[49m\u001b[38;5;28;43;01mNone\u001b[39;49;00m\u001b[43m,\u001b[49m\u001b[43m \u001b[49m\u001b[43mdb_change\u001b[49m\u001b[43m \u001b[49m\u001b[38;5;241;43m=\u001b[39;49m\u001b[43m \u001b[49m\u001b[38;5;241;43m20\u001b[39;49m\u001b[43m,\u001b[49m\u001b[43m \u001b[49m\u001b[43mprefix\u001b[49m\u001b[43m \u001b[49m\u001b[38;5;241;43m=\u001b[39;49m\u001b[43m \u001b[49m\u001b[38;5;124;43m'\u001b[39;49m\u001b[38;5;124;43mlouder_\u001b[39;49m\u001b[38;5;124;43m'\u001b[39;49m\u001b[43m)\u001b[49m\n",
      "File \u001b[1;32mc:\\users\\thwhi\\documents\\github\\audio_tools\\audio_tools\\process.py:78\u001b[0m, in \u001b[0;36mprocess_folder\u001b[1;34m(folder_path, output_folder_path, db_change, prefix, suffix)\u001b[0m\n\u001b[0;32m     74\u001b[0m output_folder_path \u001b[38;5;241m=\u001b[39m Path(output_folder_path)\n\u001b[0;32m     76\u001b[0m \u001b[38;5;28;01mfor\u001b[39;00m filename \u001b[38;5;129;01min\u001b[39;00m os\u001b[38;5;241m.\u001b[39mlistdir(folder_path):\n\u001b[0;32m     77\u001b[0m     \u001b[38;5;66;03m# Process individual podcast file\u001b[39;00m\n\u001b[1;32m---> 78\u001b[0m     pod \u001b[38;5;241m=\u001b[39m \u001b[43mprocess_pod\u001b[49m\u001b[43m(\u001b[49m\u001b[43mfilepath\u001b[49m\u001b[43m \u001b[49m\u001b[38;5;241;43m=\u001b[39;49m\u001b[43m \u001b[49m\u001b[43mPath\u001b[49m\u001b[43m(\u001b[49m\u001b[43mfolder_path\u001b[49m\u001b[43m)\u001b[49m\u001b[43m \u001b[49m\u001b[38;5;241;43m/\u001b[39;49m\u001b[43m \u001b[49m\u001b[43mfilename\u001b[49m\u001b[43m,\u001b[49m\u001b[43m \u001b[49m\u001b[43mdb_change\u001b[49m\u001b[43m \u001b[49m\u001b[38;5;241;43m=\u001b[39;49m\u001b[43m \u001b[49m\u001b[43mdb_change\u001b[49m\u001b[43m)\u001b[49m\n\u001b[0;32m     80\u001b[0m     \u001b[38;5;66;03m# Save processed pod file to output path\u001b[39;00m\n\u001b[0;32m     81\u001b[0m     output_filepath \u001b[38;5;241m=\u001b[39m (output_folder_path \u001b[38;5;241m/\u001b[39m \n\u001b[0;32m     82\u001b[0m                        Path(prefix \u001b[38;5;241m+\u001b[39m Path(filename)\u001b[38;5;241m.\u001b[39mstem \u001b[38;5;241m+\u001b[39m suffix \u001b[38;5;241m+\u001b[39m Path(filename)\u001b[38;5;241m.\u001b[39msuffix))  \n",
      "File \u001b[1;32mc:\\users\\thwhi\\documents\\github\\audio_tools\\audio_tools\\process.py:24\u001b[0m, in \u001b[0;36mprocess_pod\u001b[1;34m(filepath, db_change)\u001b[0m\n\u001b[0;32m     21\u001b[0m filepath \u001b[38;5;241m=\u001b[39m Path(filepath)\n\u001b[0;32m     22\u001b[0m filename \u001b[38;5;241m=\u001b[39m filepath\u001b[38;5;241m.\u001b[39mname\n\u001b[1;32m---> 24\u001b[0m pod \u001b[38;5;241m=\u001b[39m \u001b[43mAudioSegment\u001b[49m\u001b[38;5;241;43m.\u001b[39;49m\u001b[43mfrom_mp3\u001b[49m\u001b[43m(\u001b[49m\u001b[43mfilepath\u001b[49m\u001b[43m)\u001b[49m\n\u001b[0;32m     26\u001b[0m \u001b[38;5;28;01mif\u001b[39;00m db_change:\n\u001b[0;32m     27\u001b[0m     pod \u001b[38;5;241m=\u001b[39m pod \u001b[38;5;241m+\u001b[39m db_change\n",
      "File \u001b[1;32m~\\anaconda3\\envs\\sound_env\\lib\\site-packages\\pydub\\audio_segment.py:796\u001b[0m, in \u001b[0;36mAudioSegment.from_mp3\u001b[1;34m(cls, file, parameters)\u001b[0m\n\u001b[0;32m    794\u001b[0m \u001b[38;5;129m@classmethod\u001b[39m\n\u001b[0;32m    795\u001b[0m \u001b[38;5;28;01mdef\u001b[39;00m \u001b[38;5;21mfrom_mp3\u001b[39m(\u001b[38;5;28mcls\u001b[39m, file, parameters\u001b[38;5;241m=\u001b[39m\u001b[38;5;28;01mNone\u001b[39;00m):\n\u001b[1;32m--> 796\u001b[0m     \u001b[38;5;28;01mreturn\u001b[39;00m \u001b[38;5;28;43mcls\u001b[39;49m\u001b[38;5;241;43m.\u001b[39;49m\u001b[43mfrom_file\u001b[49m\u001b[43m(\u001b[49m\u001b[43mfile\u001b[49m\u001b[43m,\u001b[49m\u001b[43m \u001b[49m\u001b[38;5;124;43m'\u001b[39;49m\u001b[38;5;124;43mmp3\u001b[39;49m\u001b[38;5;124;43m'\u001b[39;49m\u001b[43m,\u001b[49m\u001b[43m \u001b[49m\u001b[43mparameters\u001b[49m\u001b[38;5;241;43m=\u001b[39;49m\u001b[43mparameters\u001b[49m\u001b[43m)\u001b[49m\n",
      "File \u001b[1;32m~\\anaconda3\\envs\\sound_env\\lib\\site-packages\\pydub\\audio_segment.py:651\u001b[0m, in \u001b[0;36mAudioSegment.from_file\u001b[1;34m(cls, file, format, codec, parameters, start_second, duration, **kwargs)\u001b[0m\n\u001b[0;32m    649\u001b[0m \u001b[38;5;28;01mexcept\u001b[39;00m \u001b[38;5;167;01mTypeError\u001b[39;00m:\n\u001b[0;32m    650\u001b[0m     filename \u001b[38;5;241m=\u001b[39m \u001b[38;5;28;01mNone\u001b[39;00m\n\u001b[1;32m--> 651\u001b[0m file, close_file \u001b[38;5;241m=\u001b[39m \u001b[43m_fd_or_path_or_tempfile\u001b[49m\u001b[43m(\u001b[49m\u001b[43mfile\u001b[49m\u001b[43m,\u001b[49m\u001b[43m \u001b[49m\u001b[38;5;124;43m'\u001b[39;49m\u001b[38;5;124;43mrb\u001b[39;49m\u001b[38;5;124;43m'\u001b[39;49m\u001b[43m,\u001b[49m\u001b[43m \u001b[49m\u001b[43mtempfile\u001b[49m\u001b[38;5;241;43m=\u001b[39;49m\u001b[38;5;28;43;01mFalse\u001b[39;49;00m\u001b[43m)\u001b[49m\n\u001b[0;32m    653\u001b[0m \u001b[38;5;28;01mif\u001b[39;00m \u001b[38;5;28mformat\u001b[39m:\n\u001b[0;32m    654\u001b[0m     \u001b[38;5;28mformat\u001b[39m \u001b[38;5;241m=\u001b[39m \u001b[38;5;28mformat\u001b[39m\u001b[38;5;241m.\u001b[39mlower()\n",
      "File \u001b[1;32m~\\anaconda3\\envs\\sound_env\\lib\\site-packages\\pydub\\utils.py:65\u001b[0m, in \u001b[0;36m_fd_or_path_or_tempfile\u001b[1;34m(fd, mode, tempfile)\u001b[0m\n\u001b[0;32m     63\u001b[0m \u001b[38;5;28;01mtry\u001b[39;00m:\n\u001b[0;32m     64\u001b[0m     \u001b[38;5;28;01mif\u001b[39;00m \u001b[38;5;28misinstance\u001b[39m(fd, os\u001b[38;5;241m.\u001b[39mPathLike):\n\u001b[1;32m---> 65\u001b[0m         fd \u001b[38;5;241m=\u001b[39m \u001b[38;5;28;43mopen\u001b[39;49m\u001b[43m(\u001b[49m\u001b[43mfd\u001b[49m\u001b[43m,\u001b[49m\u001b[43m \u001b[49m\u001b[43mmode\u001b[49m\u001b[38;5;241;43m=\u001b[39;49m\u001b[43mmode\u001b[49m\u001b[43m)\u001b[49m\n\u001b[0;32m     66\u001b[0m         close_fd \u001b[38;5;241m=\u001b[39m \u001b[38;5;28;01mTrue\u001b[39;00m\n\u001b[0;32m     67\u001b[0m \u001b[38;5;28;01mexcept\u001b[39;00m \u001b[38;5;167;01mAttributeError\u001b[39;00m:\n\u001b[0;32m     68\u001b[0m     \u001b[38;5;66;03m# module os has no attribute PathLike, so we're on python < 3.6.\u001b[39;00m\n\u001b[0;32m     69\u001b[0m     \u001b[38;5;66;03m# The protocol we're trying to support doesn't exist, so just pass.\u001b[39;00m\n",
      "\u001b[1;31mPermissionError\u001b[0m: [Errno 13] Permission denied: 'C:\\\\Users\\\\thwhi\\\\OneDrive\\\\Desktop\\\\history of rome podcast mp3s\\\\New folder'"
     ]
    }
   ],
   "source": [
    "folder_path = r'C:\\Users\\thwhi\\OneDrive\\Desktop\\history of rome podcast mp3s'\n",
    "# output_path = r'C:\\Users\\thwhi\\OneDrive\\Desktop\\test_folder2'\n",
    "\n",
    "process_folder(folder_path, output_folder_path = None, db_change = 20, prefix = 'louder_')"
   ]
  },
  {
   "cell_type": "code",
   "execution_count": null,
   "id": "192c998d-5d3f-4f6d-a1ba-1442e12afc83",
   "metadata": {},
   "outputs": [],
   "source": []
  }
 ],
 "metadata": {
  "kernelspec": {
   "display_name": "Python [conda env:sound_env]",
   "language": "python",
   "name": "conda-env-sound_env-py"
  },
  "language_info": {
   "codemirror_mode": {
    "name": "ipython",
    "version": 3
   },
   "file_extension": ".py",
   "mimetype": "text/x-python",
   "name": "python",
   "nbconvert_exporter": "python",
   "pygments_lexer": "ipython3",
   "version": "3.8.16"
  }
 },
 "nbformat": 4,
 "nbformat_minor": 5
}
