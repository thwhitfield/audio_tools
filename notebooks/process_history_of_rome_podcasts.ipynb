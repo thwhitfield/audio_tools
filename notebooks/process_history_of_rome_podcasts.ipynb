{
 "cells": [
  {
   "cell_type": "code",
   "execution_count": 1,
   "id": "2506e1c2-f008-4819-b1a1-c18205657edd",
   "metadata": {
    "execution": {
     "iopub.execute_input": "2023-01-30T01:40:58.370314Z",
     "iopub.status.busy": "2023-01-30T01:40:58.370314Z",
     "iopub.status.idle": "2023-01-30T01:40:58.422324Z",
     "shell.execute_reply": "2023-01-30T01:40:58.422324Z",
     "shell.execute_reply.started": "2023-01-30T01:40:58.370314Z"
    },
    "tags": []
   },
   "outputs": [],
   "source": [
    "%load_ext autoreload\n",
    "%autoreload 2"
   ]
  },
  {
   "cell_type": "code",
   "execution_count": 2,
   "id": "41a82947-2bbb-4ed4-83f6-92152baec9a9",
   "metadata": {
    "execution": {
     "iopub.execute_input": "2023-01-30T01:40:58.424325Z",
     "iopub.status.busy": "2023-01-30T01:40:58.424325Z",
     "iopub.status.idle": "2023-01-30T01:40:58.548349Z",
     "shell.execute_reply": "2023-01-30T01:40:58.547347Z",
     "shell.execute_reply.started": "2023-01-30T01:40:58.424325Z"
    },
    "tags": []
   },
   "outputs": [],
   "source": [
    "import os\n",
    "from gtts import gTTS\n",
    "from io import BytesIO\n",
    "from pydub import AudioSegment"
   ]
  },
  {
   "cell_type": "code",
   "execution_count": 3,
   "id": "f6153630-62ce-40d8-9450-7854fc307cac",
   "metadata": {
    "execution": {
     "iopub.execute_input": "2023-01-30T01:40:58.549350Z",
     "iopub.status.busy": "2023-01-30T01:40:58.549350Z",
     "iopub.status.idle": "2023-01-30T01:40:58.594348Z",
     "shell.execute_reply": "2023-01-30T01:40:58.593348Z",
     "shell.execute_reply.started": "2023-01-30T01:40:58.549350Z"
    },
    "tags": []
   },
   "outputs": [],
   "source": [
    "from pathlib import Path"
   ]
  },
  {
   "cell_type": "code",
   "execution_count": 4,
   "id": "5fb7c623-0fa9-4e32-bcaf-4038e3d1072c",
   "metadata": {
    "execution": {
     "iopub.execute_input": "2023-01-30T01:41:20.831823Z",
     "iopub.status.busy": "2023-01-30T01:41:20.831823Z",
     "iopub.status.idle": "2023-01-30T01:41:20.885828Z",
     "shell.execute_reply": "2023-01-30T01:41:20.884840Z",
     "shell.execute_reply.started": "2023-01-30T01:41:20.831823Z"
    },
    "tags": []
   },
   "outputs": [],
   "source": [
    "from audio_tools.process import process_pod, process_folder"
   ]
  },
  {
   "cell_type": "code",
   "execution_count": 6,
   "id": "4ba98c18-d7f6-4985-a8b0-724961ff9c8c",
   "metadata": {
    "execution": {
     "iopub.execute_input": "2023-01-30T01:42:09.110999Z",
     "iopub.status.busy": "2023-01-30T01:42:09.109998Z",
     "iopub.status.idle": "2023-01-30T01:42:49.516044Z",
     "shell.execute_reply": "2023-01-30T01:42:49.515043Z",
     "shell.execute_reply.started": "2023-01-30T01:42:09.110999Z"
    },
    "tags": []
   },
   "outputs": [],
   "source": [
    "folder_path = r'C:\\Users\\thwhi\\OneDrive\\Desktop\\test_folder'\n",
    "output_path = r'C:\\Users\\thwhi\\OneDrive\\Desktop\\test_folder2'\n",
    "\n",
    "process_folder(folder_path, output_path, db_change = 20, prefix = 'louder_')"
   ]
  },
  {
   "cell_type": "code",
   "execution_count": null,
   "id": "192c998d-5d3f-4f6d-a1ba-1442e12afc83",
   "metadata": {},
   "outputs": [],
   "source": []
  }
 ],
 "metadata": {
  "kernelspec": {
   "display_name": "Python [conda env:sound_env]",
   "language": "python",
   "name": "conda-env-sound_env-py"
  },
  "language_info": {
   "codemirror_mode": {
    "name": "ipython",
    "version": 3
   },
   "file_extension": ".py",
   "mimetype": "text/x-python",
   "name": "python",
   "nbconvert_exporter": "python",
   "pygments_lexer": "ipython3",
   "version": "3.8.16"
  }
 },
 "nbformat": 4,
 "nbformat_minor": 5
}
